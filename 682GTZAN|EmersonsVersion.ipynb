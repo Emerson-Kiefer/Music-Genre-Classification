{
  "cells": [
    {
      "cell_type": "code",
      "execution_count": null,
      "metadata": {
        "colab": {
          "base_uri": "https://localhost:8080/"
        },
        "id": "sfb24MLR-W_K",
        "outputId": "1cffb712-7dc7-4d4f-9191-030319000b09"
      },
      "outputs": [
        {
          "output_type": "stream",
          "name": "stdout",
          "text": [
            "Drive already mounted at /content/drive; to attempt to forcibly remount, call drive.mount(\"/content/drive\", force_remount=True).\n"
          ]
        }
      ],
      "source": [
        "from google.colab import drive\n",
        "drive.mount('/content/drive')"
      ]
    },
    {
      "cell_type": "code",
      "execution_count": null,
      "metadata": {
        "id": "JfXEubN3qdhC"
      },
      "outputs": [],
      "source": [
        "GTZAN_DIR_PATH = '/content/drive/MyDrive/ColabNotebooks'\n",
        "GTZAN_GENRES = ['blues', 'classical', 'country', 'disco', 'hiphop', 'jazz', 'metal', 'pop', 'reggae', 'rock']"
      ]
    },
    {
      "cell_type": "markdown",
      "metadata": {
        "id": "yxI6e5Uafjqg"
      },
      "source": [
        "# BEGIN MY IMPLEMENTATION\n",
        "### Import Packages & Set Global Variables\n"
      ]
    },
    {
      "cell_type": "code",
      "execution_count": null,
      "metadata": {
        "id": "0XHsmNzF3xAk"
      },
      "outputs": [],
      "source": [
        "import torch, torchvision\n",
        "import torchaudio\n",
        "from torchaudio import transforms\n",
        "from torch.utils.data import DataLoader, Dataset\n",
        "from torchvision import models\n",
        "import os\n",
        "import numpy as np\n",
        "import torch.nn as nn\n",
        "import torch.distributions as dist\n",
        "from librosa.effects import pitch_shift\n",
        "\n",
        "\n",
        "device = torch.device('cuda:0' if torch.cuda.is_available() else 'cpu')\n",
        "\n",
        "GTZAN_DIR_PATH = '/content/drive/MyDrive/CS 682/682 Final Project'\n",
        "GENRES_DIR = GTZAN_DIR_PATH + \"/genres\"\n",
        "MELSPEC_GENRES_DIR = GTZAN_DIR_PATH + \"/melspec_genres\"\n",
        "GENRES_TRAIN = GTZAN_DIR_PATH + \"/genres_train\"\n",
        "GENRES_TEST = GTZAN_DIR_PATH + \"/genres_test\"\n",
        "MODELS_DIR = GTZAN_DIR_PATH + \"/models\"\n",
        "\n",
        "if not os.path.exists(MODELS_DIR): os.makedirs(MODELS_DIR)"
      ]
    },
    {
      "cell_type": "markdown",
      "metadata": {
        "id": "DvKMs2kd3xfK"
      },
      "source": [
        "### Data Preprocessing"
      ]
    },
    {
      "cell_type": "code",
      "execution_count": null,
      "metadata": {
        "id": "2gCEs9tUfW0g"
      },
      "outputs": [],
      "source": [
        "'''\n",
        "\n",
        "'''\n",
        "def addNoiseAugmentation(waveform, noise_amplitude):\n",
        "  noise = torch.randn(waveform.shape)\n",
        "  noisy_waveform = waveform + noise * noise_amplitude\n",
        "  return noisy_waveform\n",
        "\n",
        "def pitchShiftAugmentation(waveform, sample_rate):\n",
        "  n_steps = (torch.rand(1) * 8 - 4).item() #n_steps in [-4, 4] uniform dist\n",
        "  return torch.from_numpy(pitch_shift(waveform.numpy(), sr=sample_rate, n_steps=n_steps))\n",
        "\n",
        "def wav_2_melspec(path, pitchShift, addNoise, noise_amplitude):\n",
        "  waveform, sample_rate = torchaudio.load(path, normalize=True)\n",
        "  waveforms = [(waveform, \"\")]\n",
        "\n",
        "  if addNoise:\n",
        "    waveforms.append((addNoiseAugmentation(waveform, noise_amplitude), \"addNoise\"))\n",
        "\n",
        "  if pitchShift:\n",
        "    waveforms.append((pitchShiftAugmentation(waveform, sample_rate), \"pitchShift\"))\n",
        "\n",
        "  transform = transforms.MelSpectrogram(sample_rate)\n",
        "  melspecs = []\n",
        "  for waveform in waveforms:\n",
        "    melspec = transform(waveform[0])[:, :, :3300]\n",
        "    melspecs.append((melspec, waveform[1])) #some files are smaller, so we cut at 3300\n",
        "\n",
        "  return melspecs\n",
        "\n",
        "def preprocess_melspecs(trainingPathEnding = \"\", pitchShift=False, addNoise=False, noise_amplitude = 0.001):\n",
        "  if len(trainingPathEnding) > 0:\n",
        "    trainingPathEnding = \"_\" + trainingPathEnding\n",
        "  for genre in os.listdir(GENRES_DIR):\n",
        "    #### IGNORE .DS_Store ####\n",
        "    genre_dir = os.path.join(GENRES_DIR,genre)\n",
        "    genre_train_dir = os.path.join(GENRES_TRAIN + trainingPathEnding, genre)\n",
        "    genre_test_dir = os.path.join(GENRES_TEST, genre)\n",
        "\n",
        "    #### ADD DIRECTORIES ####\n",
        "    if not os.path.isdir(genre_dir): continue\n",
        "\n",
        "    if not os.path.exists(genre_train_dir):\n",
        "      os.makedirs(genre_train_dir)\n",
        "\n",
        "    if not os.path.exists(genre_test_dir):\n",
        "      os.makedirs(genre_test_dir)\n",
        "\n",
        "    #### CREATE TEST AND TRAIN SETS ####\n",
        "    files = os.listdir(genre_dir)\n",
        "    num_test = int(len(files) * 0.3)\n",
        "    test_files = np.array([True] * num_test + [False] * (len(files) - num_test))\n",
        "    np.random.shuffle(test_files)\n",
        "\n",
        "    for i, file in enumerate(files):\n",
        "      if \".wav\" not in file: continue\n",
        "\n",
        "      #### GENERATE BASE MELSPEC & AUGMENTATION MELSPECS ####\n",
        "      file_path = os.path.join(genre_dir,file)\n",
        "      melspecs = wav_2_melspec(file_path, pitchShift=pitchShift, addNoise=addNoise, noise_amplitude=noise_amplitude)\n",
        "\n",
        "      #### SAVE MELSPECS ####\n",
        "      if test_files[i]:\n",
        "        output_path = os.path.join(genre_test_dir, os.path.basename(file_path)[:-4] + \"_\" + melspecs[0][1] + \".npy\")\n",
        "        np.save(output_path, melspecs[0][0].numpy())\n",
        "      else:\n",
        "        for melspec in melspecs:\n",
        "          output_path = os.path.join(genre_train_dir, os.path.basename(file_path)[:-4] + \"_\" + melspec[1] + \".npy\")\n",
        "          np.save(output_path, melspec[0].numpy())\n",
        "\n",
        "#TODO: Uncomment next line to create test and training melspectrograms\n",
        "preprocess_melspecs(trainingPathEnding=\"all\", pitchShift=True, addNoise=True)"
      ]
    },
    {
      "cell_type": "markdown",
      "metadata": {
        "id": "UIjLhOKj3BBu"
      },
      "source": [
        "### Create Dataset"
      ]
    },
    {
      "cell_type": "code",
      "execution_count": null,
      "metadata": {
        "id": "FfQwqSAkYA7y"
      },
      "outputs": [],
      "source": [
        "from torch.utils.data import Dataset\n",
        "\n",
        "class MelspecDataset(Dataset):\n",
        "  '''\n",
        "  root_dir: directory containing melspec genre subdirectories\n",
        "  splits: number of images to generate from each spectrogram\n",
        "  split_ranges: start time and end time for each audio split\n",
        "  '''\n",
        "  def __init__(self, root_dir, num_splits=1, W=3300, num_mixup=0):\n",
        "    self.root_dir = root_dir\n",
        "    self.genres = os.listdir(self.root_dir)\n",
        "    self.file_paths = []\n",
        "    self.split_ranges = []\n",
        "    self.labels = []\n",
        "    self.num_splits = num_splits\n",
        "\n",
        "\n",
        "\n",
        "    for id, genre in enumerate(os.listdir(self.root_dir)):\n",
        "      genre_dir = os.path.join(root_dir, genre)\n",
        "      if not os.path.isdir(genre_dir): continue\n",
        "      mel_paths = [os.path.join(genre_dir, file) for file in os.listdir(genre_dir) if \".npy\" in file]\n",
        "      #repeat the path and labels for each split\n",
        "      split_mel_paths = [path for path in mel_paths for _ in range(num_splits)]\n",
        "      self.file_paths.extend(split_mel_paths)\n",
        "      self.labels.extend([torch.eye(len(self.genres))[id]] * len(split_mel_paths))\n",
        "      self.split_ranges.extend([(i*W//num_splits, (i+1)*W//num_splits) for i in range(num_splits)] * len(mel_paths))\n",
        "\n",
        "    self.mixup_indexes, self.mixup_labels, self.lams = self.setMixupPairings(num_mixup)\n",
        "\n",
        "\n",
        "  def setMixupPairings(self, num_mixup):\n",
        "    # Welcome to funky town!\n",
        "    '''\n",
        "    mixup_indexes: (index_to_file1, index_to_file2)\n",
        "    lam = mixed_factor\n",
        "      x' = lam*x_1 + (1-lam)x_2\n",
        "      y' = lam*y_1 + (1-lam)y_2\n",
        "    '''\n",
        "    mixup_indexes = []\n",
        "    mixup_labels = []\n",
        "    lams = []\n",
        "    for _ in range(num_mixup):\n",
        "      # alpha is value in (0, inf)\n",
        "      alpha = torch.rand(1).item()\n",
        "      # value in Beta(alpha, alpha)\n",
        "      lam = dist.Beta(alpha, alpha).sample().item()\n",
        "\n",
        "      rand_index1 = torch.randint(0, len(self.file_paths), (1,)).item()\n",
        "      rand_index2 = torch.randint(0, len(self.file_paths), (1,)).item()\n",
        "      mixup_indexes.append((rand_index1, rand_index2))\n",
        "      mixup_labels.append(lam * self.labels[rand_index1] + (1- lam) * self.labels[rand_index2])\n",
        "      lams.append(lam)\n",
        "    return mixup_indexes, mixup_labels, lams\n",
        "\n",
        "\n",
        "\n",
        "  def __len__(self):\n",
        "    return len(self.labels) + len(self.mixup_labels)\n",
        "\n",
        "  def __getitem__(self, idx):\n",
        "    #This is a horrible way to do mixup, but that's just the way it goes sometimes :)\n",
        "    label = None\n",
        "    melspec = None\n",
        "\n",
        "    if idx < len(self.file_paths):\n",
        "      melspec_path = self.file_paths[idx]\n",
        "      melspec = torch.from_numpy(np.load(melspec_path)[:, :, self.split_ranges[idx][0] : self.split_ranges[idx][1]])\n",
        "      label = self.labels[idx]\n",
        "    else:\n",
        "    #We compute mixup\n",
        "      #wrap around idx for mixup indexes\n",
        "      idx -= len(self.file_paths)\n",
        "      #get\n",
        "      i1, i2 = self.mixup_indexes[idx]\n",
        "      melspec_path1 = self.file_paths[i1]\n",
        "      melspec_path2 = self.file_paths[i2]\n",
        "      melspec1 = torch.from_numpy(np.load(melspec_path1)[:, :, self.split_ranges[i1][0] : self.split_ranges[i1][1]])\n",
        "      melspec2 = torch.from_numpy(np.load(melspec_path2)[:, :, self.split_ranges[i2][0] : self.split_ranges[i2][1]])\n",
        "      lam = self.lams[idx]\n",
        "      melspec = lam * melspec1 + (1- lam) * melspec2\n",
        "      label = self.mixup_labels[idx]\n",
        "    return melspec, label\n",
        "\n",
        "H = 128\n",
        "W= 3300\n",
        "num_splits = 10\n",
        "d_train = MelspecDataset(GENRES_TRAIN + \"_all\", num_splits)\n",
        "# print(d_train[7001])\n",
        "d_test = MelspecDataset(GENRES_TEST, num_splits)"
      ]
    },
    {
      "cell_type": "markdown",
      "metadata": {
        "id": "NI3JVdfM3Feq"
      },
      "source": [
        "## Implement ResNet18"
      ]
    },
    {
      "cell_type": "code",
      "execution_count": null,
      "metadata": {
        "id": "K4rMlhmF3Mgr"
      },
      "outputs": [],
      "source": [
        "class ResNetMelspec(nn.Module):\n",
        "  def __init__(self, dataloader, num_genres, lr=0.001, weight_decay=1e-6, max_iterations=20):\n",
        "    super(ResNetMelspec, self).__init__()\n",
        "\n",
        "    self.resnet18 = models.resnet18()#, num_classes=len(d.genres))\n",
        "    self.resnet18.fc = nn.Linear(self.resnet18.fc.in_features, num_genres) #set output to # of genres\n",
        "    self.resnet18.conv1 = nn.Conv2d(1, 64, kernel_size=(7, 7), stride=(2, 2), padding=(3, 3), bias=False)\n",
        "\n",
        "    self.dataloader = dataloader\n",
        "    self.lr=lr\n",
        "    self.weight_decay=weight_decay\n",
        "    self.max_iterations = max_iterations\n",
        "    self.loss = nn.CrossEntropyLoss()\n",
        "\n",
        "\n",
        "  def predict(self, x):\n",
        "    return self.resnet18(x)\n",
        "\n",
        "  #takes in all splits of a specific MelSpectrogram, outputs class guess\n",
        "  def predict_full_class(self, x):\n",
        "    predictions = self.predict(x)\n",
        "    max_values, _ = torch.max(predictions, dim=1, keepdim=True)\n",
        "    max_values = torch.eq(max_values, predictions).int()\n",
        "    # print(\"max_values:\", max_values)\n",
        "    max_class = torch.argmax(torch.sum(max_values, dim=0))\n",
        "    return max_class\n",
        "\n",
        "\n",
        "  def fit(self):\n",
        "    optimizer = torch.optim.Adam(self.parameters(), lr=self.lr, weight_decay=self.weight_decay)\n",
        "    for i in range(self.max_iterations):\n",
        "      loss_sum = 0\n",
        "      # testing = 0\n",
        "      for X, labels in self.dataloader:\n",
        "        X = X.to(device)\n",
        "        labels = labels.to(device)\n",
        "        predictions = self.predict(X)\n",
        "        loss = self.loss(predictions, labels)\n",
        "        optimizer.zero_grad()\n",
        "        loss.backward()\n",
        "        optimizer.step()\n",
        "        # print(\"Loss:\", loss)\n",
        "        # if(testing %10 ==  0):\n",
        "        #   stop = input()\n",
        "        #   if stop == '1':\n",
        "        #     return\n",
        "        loss_sum += loss\n",
        "        print(\"Loss:\", loss)\n",
        "\n",
        "      print(\"Epoch:\", i)\n",
        "      print(\"Loss:\", loss_sum)\n",
        "      self.save(\"R2Epoch\" + str(i))\n",
        "\n",
        "\n",
        "  def save(self, name):\n",
        "    torch.save({'model_state_dict': self.state_dict()}, MODELS_DIR + \"/\"  + name + \".pt\")\n",
        "\n",
        "\n",
        "  def load(self, name):\n",
        "    print(MODELS_DIR + \"/\" + name + \".pt\")\n",
        "    checkpoint = torch.load(MODELS_DIR + \"/\" + name + \".pt\")\n",
        "    self.load_state_dict(checkpoint[\"model_state_dict\"])"
      ]
    },
    {
      "cell_type": "markdown",
      "metadata": {
        "id": "dIdzgN0Nxjyi"
      },
      "source": [
        "### Initialize Dataloaders"
      ]
    },
    {
      "cell_type": "code",
      "execution_count": null,
      "metadata": {
        "id": "5rIsRN5ixjCF"
      },
      "outputs": [],
      "source": [
        "train_dataloader = DataLoader(d_train, batch_size=32, shuffle=True)\n",
        "test_dataloader = DataLoader(d_test, batch_size=num_splits, shuffle=False)"
      ]
    },
    {
      "cell_type": "markdown",
      "metadata": {
        "id": "RtI4m5HrSoJy"
      },
      "source": [
        "### Train and Save ResNet\n"
      ]
    },
    {
      "cell_type": "code",
      "execution_count": null,
      "metadata": {
        "id": "k6FC3UuFSncB"
      },
      "outputs": [],
      "source": [
        "print(len(train_dataloader))\n",
        "resNetMelspec = ResNetMelspec(train_dataloader, num_genres=len(d_train.genres)).to(device)\n",
        "resNetMelspec.fit()\n",
        "resNetMelspec.save(\"ResNet_1\")"
      ]
    },
    {
      "cell_type": "markdown",
      "metadata": {
        "id": "H0kDLJ6RS5Hw"
      },
      "source": [
        "### Test ResNet"
      ]
    },
    {
      "cell_type": "code",
      "execution_count": null,
      "metadata": {
        "colab": {
          "base_uri": "https://localhost:8080/",
          "height": 246
        },
        "id": "bfTcSSLpS9l5",
        "outputId": "84733830-06bb-410d-a616-22bc438d41e8"
      },
      "outputs": [
        {
          "ename": "NameError",
          "evalue": "ignored",
          "output_type": "error",
          "traceback": [
            "\u001b[0;31m---------------------------------------------------------------------------\u001b[0m",
            "\u001b[0;31mNameError\u001b[0m                                 Traceback (most recent call last)",
            "\u001b[0;32m<ipython-input-5-dc0704e0c9ee>\u001b[0m in \u001b[0;36m<cell line: 7>\u001b[0;34m()\u001b[0m\n\u001b[1;32m      5\u001b[0m \u001b[0mtest_dataloader\u001b[0m \u001b[0;34m=\u001b[0m \u001b[0mDataLoader\u001b[0m\u001b[0;34m(\u001b[0m\u001b[0md_test\u001b[0m\u001b[0;34m,\u001b[0m \u001b[0mbatch_size\u001b[0m\u001b[0;34m=\u001b[0m\u001b[0mnum_splits\u001b[0m\u001b[0;34m,\u001b[0m \u001b[0mshuffle\u001b[0m\u001b[0;34m=\u001b[0m\u001b[0;32mFalse\u001b[0m\u001b[0;34m)\u001b[0m\u001b[0;34m\u001b[0m\u001b[0;34m\u001b[0m\u001b[0m\n\u001b[1;32m      6\u001b[0m \u001b[0;31m#LOAD FROM FILE\u001b[0m\u001b[0;34m\u001b[0m\u001b[0;34m\u001b[0m\u001b[0m\n\u001b[0;32m----> 7\u001b[0;31m \u001b[0mresNetMelspecTest\u001b[0m \u001b[0;34m=\u001b[0m \u001b[0mResNetMelspec\u001b[0m\u001b[0;34m(\u001b[0m\u001b[0mtest_dataloader\u001b[0m\u001b[0;34m,\u001b[0m \u001b[0mnum_genres\u001b[0m\u001b[0;34m=\u001b[0m\u001b[0mlen\u001b[0m\u001b[0;34m(\u001b[0m\u001b[0md_test\u001b[0m\u001b[0;34m.\u001b[0m\u001b[0mgenres\u001b[0m\u001b[0;34m)\u001b[0m\u001b[0;34m)\u001b[0m\u001b[0;34m\u001b[0m\u001b[0;34m\u001b[0m\u001b[0m\n\u001b[0m\u001b[1;32m      8\u001b[0m \u001b[0mresNetMelspecTest\u001b[0m\u001b[0;34m.\u001b[0m\u001b[0mload\u001b[0m\u001b[0;34m(\u001b[0m\u001b[0mSAVE_FILE_NAME\u001b[0m\u001b[0;34m)\u001b[0m\u001b[0;34m\u001b[0m\u001b[0;34m\u001b[0m\u001b[0m\n\u001b[1;32m      9\u001b[0m \u001b[0;34m\u001b[0m\u001b[0m\n",
            "\u001b[0;31mNameError\u001b[0m: name 'ResNetMelspec' is not defined"
          ]
        }
      ],
      "source": [
        "import seaborn as sns\n",
        "from sklearn.metrics import accuracy_score, confusion_matrix\n",
        "\n",
        "SAVE_FILE_NAME = \"Epoch8\" #Ex: \"Epoch8\"\n",
        "test_dataloader = DataLoader(d_test, batch_size=num_splits, shuffle=False)\n",
        "#LOAD FROM FILE\n",
        "resNetMelspecTest = ResNetMelspec(test_dataloader, num_genres=len(d_test.genres))\n",
        "resNetMelspecTest.load(SAVE_FILE_NAME)\n",
        "\n",
        "y_true = []\n",
        "y_pred = []\n",
        "count = len(test_dataloader)\n",
        "with torch.no_grad():\n",
        "  for x, label in test_dataloader:\n",
        "    y_true.append(torch.argmax(label).item())\n",
        "    y_pred.append(resNetMelspecTest.predict_full_class(x).item())"
      ]
    },
    {
      "cell_type": "code",
      "execution_count": null,
      "metadata": {
        "colab": {
          "base_uri": "https://localhost:8080/",
          "height": 509
        },
        "id": "cEgXk7if5eHn",
        "outputId": "656af5d1-27c3-49c2-b30a-eb8e5f0eb144"
      },
      "outputs": [
        {
          "name": "stdout",
          "output_type": "stream",
          "text": [
            "0.16333333333333333\n"
          ]
        },
        {
          "data": {
            "text/plain": [
              "<Axes: >"
            ]
          },
          "execution_count": 12,
          "metadata": {},
          "output_type": "execute_result"
        },
        {
          "data": {
            "image/png": "[encoded data removed]",
            "text/plain": [
              "<Figure size 640x480 with 2 Axes>"
            ]
          },
          "metadata": {},
          "output_type": "display_data"
        }
      ],
      "source": [
        "from sklearn.metrics import accuracy_score, confusion_matrix\n",
        "print(accuracy_score(y_true, y_pred))\n",
        "cm = confusion_matrix(y_true, y_pred)\n",
        "sns.heatmap(cm, annot=True, xticklabels=GTZAN_GENRES, yticklabels=GTZAN_GENRES, cmap='YlGnBu')"
      ]
    },
    {
      "cell_type": "markdown",
      "metadata": {
        "id": "VA9U6KxYvHZC"
      },
      "source": [
        "## Implement Paper Model"
      ]
    },
    {
      "cell_type": "code",
      "execution_count": null,
      "metadata": {
        "id": "TTwgTps9vbxc"
      },
      "outputs": [],
      "source": [
        "import torch\n",
        "import torch.nn as nn\n",
        "\n",
        "\n",
        "class Conv_2d_Wrapper(nn.Module):\n",
        "    def __init__(self, input_channels, output_channels, shape=3, pooling=2, dropout=0.5):\n",
        "        super(Conv_2d_Wrapper, self).__init__()\n",
        "        self.conv = nn.Conv2d(input_channels, output_channels, kernel_size=shape, padding=0) #shape//2)\n",
        "        #self.bn = nn.BatchNorm2d(output_channels)\n",
        "        self.relu = nn.ReLU()\n",
        "        self.maxpool = nn.MaxPool2d(pooling)\n",
        "        self.dropout = nn.Dropout(dropout)\n",
        "\n",
        "    def forward(self, wav):\n",
        "        out = self.conv(wav)\n",
        "        #out = self.bn(out)\n",
        "        out = self.relu(out)\n",
        "        out = self.maxpool(out)\n",
        "        out = self.dropout(out)\n",
        "        return out\n",
        "\n",
        "\n",
        "class KCNN(nn.Module):\n",
        "    def __init__(self, dataloader,\n",
        "                       sample_rate=22050,\n",
        "                       n_fft=1024,\n",
        "                       f_min=0.0,\n",
        "                       f_max=11025.0,\n",
        "                       num_mels=128,\n",
        "                       num_classes=10, lr=0.001, weight_decay=1e-6, max_iterations=20):\n",
        "        super(KCNN, self).__init__()\n",
        "\n",
        "        self.input_bn = nn.BatchNorm2d(1)\n",
        "\n",
        "        # convolutional layers\n",
        "        self.layer1 = Conv_2d_Wrapper(1, 128)\n",
        "        self.layer2 = Conv_2d_Wrapper(128, 64)\n",
        "        self.layer3 = Conv_2d_Wrapper(64, 32)\n",
        "        self.layer4 = Conv_2d_Wrapper(32, 16)\n",
        "        self.layer5 = Conv_2d_Wrapper(16, 8)\n",
        "\n",
        "        # dense layers\n",
        "        self.dense1 = nn.Linear(128, num_classes)\n",
        "\n",
        "        self.dataloader = dataloader\n",
        "        self.lr=lr\n",
        "        self.weight_decay=weight_decay\n",
        "        self.max_iterations = max_iterations\n",
        "        self.loss = nn.CrossEntropyLoss()\n",
        "\n",
        "    def forward(self, mel):\n",
        "       # print(mel.shape)\n",
        "        # input batch normalization\n",
        "        #out = mel.unsqueeze(1)\n",
        "        # out = self.input_bn(out) # input normalization\n",
        "        # convolutional layers\n",
        "        out = self.layer1(mel)\n",
        "        #print(out.shape)\n",
        "        out = self.layer2(out)\n",
        "       # print(out.shape)\n",
        "        out = self.layer3(out)\n",
        "        #print(out.shape)\n",
        "        out = self.layer4(out)\n",
        "        #print(out.shape)\n",
        "        out = self.layer5(out)\n",
        "        #print(out.shape)\n",
        "        out = out.reshape(len(out), -1)\n",
        "        out = self.dense1(out)\n",
        "        return out\n",
        "\n",
        "\n",
        "    def predict(self, x):\n",
        "      return self.forward(x)\n",
        "\n",
        "    #takes in all splits of a specific MelSpectrogram, outputs class guess\n",
        "    def predict_full_class(self, x):\n",
        "      predictions = self.predict(x)\n",
        "      max_values, _ = torch.max(predictions, dim=1, keepdim=True)\n",
        "      max_values = torch.eq(max_values, predictions).int()\n",
        "      max_class = torch.argmax(torch.sum(max_values, dim=0))\n",
        "      return max_class\n",
        "\n",
        "\n",
        "    def fit(self):\n",
        "      optimizer = torch.optim.Adam(self.parameters(), lr=self.lr, weight_decay=self.weight_decay)\n",
        "      for i in range(self.max_iterations):\n",
        "        loss_sum = 0\n",
        "        # testing = 0\n",
        "        for X, labels in self.dataloader:\n",
        "          X = X.to(device)\n",
        "          labels = labels.to(device)\n",
        "          predictions = self.predict(X)\n",
        "          loss = self.loss(predictions, labels)\n",
        "          optimizer.zero_grad()\n",
        "          loss.backward()\n",
        "          optimizer.step()\n",
        "          # print(\"Loss:\", loss)\n",
        "          # if(testing %10 ==  0):\n",
        "          #   stop = input()\n",
        "          #   if stop == '1':\n",
        "          #     return\n",
        "          loss_sum += loss\n",
        "          print(\"Loss:\", loss)\n",
        "\n",
        "        print(\"Epoch:\", i)\n",
        "        print(\"Loss:\", loss_sum)\n",
        "        self.save(\"R2Epoch\" + str(i))\n",
        "\n",
        "\n",
        "    def save(self, name):\n",
        "      torch.save({'model_state_dict': self.state_dict()}, MODELS_DIR + \"/\"  + name + \".pt\")\n",
        "\n",
        "\n",
        "    def load(self, name):\n",
        "      print(MODELS_DIR + \"/\" + name + \".pt\")\n",
        "      checkpoint = torch.load(MODELS_DIR + \"/\" + name + \".pt\")\n",
        "      self.load_state_dict(checkpoint[\"model_state_dict\"])"
      ]
    },
    {
      "cell_type": "markdown",
      "metadata": {
        "id": "uFu5roZYy9y3"
      },
      "source": [
        "### Initialize Dataloaders\n",
        "\n",
        "(Repeated from above for the sake of convenience)"
      ]
    },
    {
      "cell_type": "code",
      "execution_count": null,
      "metadata": {
        "id": "gey5r6Ivy5b3"
      },
      "outputs": [],
      "source": [
        "train_dataloader = DataLoader(d_train, batch_size=32, shuffle=True)\n",
        "test_dataloader = DataLoader(d_test, batch_size=num_splits, shuffle=False)"
      ]
    },
    {
      "cell_type": "markdown",
      "metadata": {
        "id": "kjqVE_2fviAH"
      },
      "source": [
        "### Load and Train Paper Model"
      ]
    },
    {
      "cell_type": "code",
      "execution_count": null,
      "metadata": {
        "colab": {
          "base_uri": "https://localhost:8080/",
          "height": 1000
        },
        "id": "PV43i_KkvgT2",
        "outputId": "1ca80ee2-9e32-4b4c-9126-ce8c7b5361d8"
      },
      "outputs": [
        {
          "name": "stdout",
          "output_type": "stream",
          "text": [
            "Loss: tensor(16.4736, grad_fn=<DivBackward1>)\n",
            "Loss: tensor(4.9047, grad_fn=<DivBackward1>)\n",
            "Loss: tensor(4.3584, grad_fn=<DivBackward1>)\n",
            "Loss: tensor(3.5330, grad_fn=<DivBackward1>)\n",
            "Loss: tensor(3.7316, grad_fn=<DivBackward1>)\n",
            "Loss: tensor(2.7665, grad_fn=<DivBackward1>)\n",
            "Loss: tensor(2.7258, grad_fn=<DivBackward1>)\n",
            "Loss: tensor(2.5765, grad_fn=<DivBackward1>)\n",
            "Loss: tensor(2.7749, grad_fn=<DivBackward1>)\n",
            "Loss: tensor(2.7380, grad_fn=<DivBackward1>)\n",
            "Loss: tensor(2.5242, grad_fn=<DivBackward1>)\n",
            "Loss: tensor(2.7366, grad_fn=<DivBackward1>)\n",
            "Loss: tensor(2.3398, grad_fn=<DivBackward1>)\n",
            "Loss: tensor(2.5056, grad_fn=<DivBackward1>)\n",
            "Loss: tensor(2.3867, grad_fn=<DivBackward1>)\n",
            "Loss: tensor(2.3608, grad_fn=<DivBackward1>)\n",
            "Loss: tensor(2.3516, grad_fn=<DivBackward1>)\n",
            "Loss: tensor(2.5101, grad_fn=<DivBackward1>)\n",
            "Loss: tensor(2.3267, grad_fn=<DivBackward1>)\n",
            "Loss: tensor(2.3854, grad_fn=<DivBackward1>)\n",
            "Loss: tensor(2.3961, grad_fn=<DivBackward1>)\n",
            "Loss: tensor(2.2505, grad_fn=<DivBackward1>)\n",
            "Loss: tensor(2.4802, grad_fn=<DivBackward1>)\n",
            "Loss: tensor(2.3994, grad_fn=<DivBackward1>)\n",
            "Loss: tensor(2.4112, grad_fn=<DivBackward1>)\n",
            "Loss: tensor(2.2755, grad_fn=<DivBackward1>)\n",
            "Loss: tensor(2.3391, grad_fn=<DivBackward1>)\n",
            "Loss: tensor(2.2617, grad_fn=<DivBackward1>)\n",
            "Loss: tensor(2.4722, grad_fn=<DivBackward1>)\n",
            "Loss: tensor(2.3908, grad_fn=<DivBackward1>)\n",
            "Loss: tensor(2.2167, grad_fn=<DivBackward1>)\n",
            "Loss: tensor(2.2632, grad_fn=<DivBackward1>)\n",
            "Loss: tensor(2.2873, grad_fn=<DivBackward1>)\n",
            "Loss: tensor(2.2758, grad_fn=<DivBackward1>)\n",
            "Loss: tensor(2.2688, grad_fn=<DivBackward1>)\n",
            "Loss: tensor(2.2728, grad_fn=<DivBackward1>)\n",
            "Loss: tensor(2.2555, grad_fn=<DivBackward1>)\n",
            "Loss: tensor(2.3917, grad_fn=<DivBackward1>)\n",
            "Loss: tensor(2.3142, grad_fn=<DivBackward1>)\n",
            "Loss: tensor(2.2938, grad_fn=<DivBackward1>)\n",
            "Loss: tensor(2.2109, grad_fn=<DivBackward1>)\n",
            "Loss: tensor(2.3001, grad_fn=<DivBackward1>)\n",
            "Loss: tensor(2.3662, grad_fn=<DivBackward1>)\n",
            "Loss: tensor(2.2597, grad_fn=<DivBackward1>)\n",
            "Loss: tensor(2.2811, grad_fn=<DivBackward1>)\n",
            "Loss: tensor(2.2829, grad_fn=<DivBackward1>)\n",
            "Loss: tensor(2.2796, grad_fn=<DivBackward1>)\n",
            "Loss: tensor(2.3659, grad_fn=<DivBackward1>)\n",
            "Loss: tensor(2.3311, grad_fn=<DivBackward1>)\n",
            "Loss: tensor(2.2915, grad_fn=<DivBackward1>)\n",
            "Loss: tensor(2.2905, grad_fn=<DivBackward1>)\n",
            "Loss: tensor(2.2662, grad_fn=<DivBackward1>)\n",
            "Loss: tensor(2.2528, grad_fn=<DivBackward1>)\n",
            "Loss: tensor(2.2516, grad_fn=<DivBackward1>)\n",
            "Loss: tensor(2.3340, grad_fn=<DivBackward1>)\n",
            "Loss: tensor(2.2263, grad_fn=<DivBackward1>)\n",
            "Loss: tensor(2.2294, grad_fn=<DivBackward1>)\n",
            "Loss: tensor(2.3145, grad_fn=<DivBackward1>)\n",
            "Loss: tensor(2.2719, grad_fn=<DivBackward1>)\n",
            "Loss: tensor(2.2105, grad_fn=<DivBackward1>)\n",
            "Loss: tensor(2.3307, grad_fn=<DivBackward1>)\n",
            "Loss: tensor(2.2711, grad_fn=<DivBackward1>)\n",
            "Loss: tensor(2.2420, grad_fn=<DivBackward1>)\n",
            "Loss: tensor(2.2863, grad_fn=<DivBackward1>)\n",
            "Loss: tensor(2.2185, grad_fn=<DivBackward1>)\n",
            "Loss: tensor(2.3816, grad_fn=<DivBackward1>)\n",
            "Loss: tensor(2.3058, grad_fn=<DivBackward1>)\n",
            "Loss: tensor(2.2324, grad_fn=<DivBackward1>)\n",
            "Loss: tensor(2.3818, grad_fn=<DivBackward1>)\n",
            "Loss: tensor(2.3364, grad_fn=<DivBackward1>)\n",
            "Loss: tensor(2.2804, grad_fn=<DivBackward1>)\n",
            "Loss: tensor(2.2016, grad_fn=<DivBackward1>)\n",
            "Loss: tensor(2.2621, grad_fn=<DivBackward1>)\n",
            "Loss: tensor(2.2712, grad_fn=<DivBackward1>)\n",
            "Loss: tensor(2.2534, grad_fn=<DivBackward1>)\n",
            "Loss: tensor(2.2360, grad_fn=<DivBackward1>)\n",
            "Loss: tensor(2.3388, grad_fn=<DivBackward1>)\n",
            "Loss: tensor(2.3152, grad_fn=<DivBackward1>)\n",
            "Loss: tensor(2.3292, grad_fn=<DivBackward1>)\n",
            "Loss: tensor(2.2656, grad_fn=<DivBackward1>)\n",
            "Loss: tensor(2.1788, grad_fn=<DivBackward1>)\n",
            "Loss: tensor(2.2660, grad_fn=<DivBackward1>)\n",
            "Loss: tensor(2.2087, grad_fn=<DivBackward1>)\n",
            "Loss: tensor(2.2433, grad_fn=<DivBackward1>)\n",
            "Loss: tensor(2.2144, grad_fn=<DivBackward1>)\n",
            "Loss: tensor(2.2814, grad_fn=<DivBackward1>)\n",
            "Loss: tensor(2.3034, grad_fn=<DivBackward1>)\n",
            "Loss: tensor(2.2262, grad_fn=<DivBackward1>)\n",
            "Loss: tensor(2.2637, grad_fn=<DivBackward1>)\n",
            "Loss: tensor(2.3172, grad_fn=<DivBackward1>)\n",
            "Loss: tensor(2.3658, grad_fn=<DivBackward1>)\n",
            "Loss: tensor(2.2529, grad_fn=<DivBackward1>)\n",
            "Loss: tensor(2.2829, grad_fn=<DivBackward1>)\n",
            "Loss: tensor(2.1586, grad_fn=<DivBackward1>)\n",
            "Loss: tensor(2.2183, grad_fn=<DivBackward1>)\n",
            "Loss: tensor(2.2560, grad_fn=<DivBackward1>)\n",
            "Loss: tensor(2.2902, grad_fn=<DivBackward1>)\n",
            "Loss: tensor(2.2652, grad_fn=<DivBackward1>)\n",
            "Loss: tensor(2.4690, grad_fn=<DivBackward1>)\n",
            "Loss: tensor(2.1315, grad_fn=<DivBackward1>)\n",
            "Loss: tensor(2.2782, grad_fn=<DivBackward1>)\n",
            "Loss: tensor(2.3666, grad_fn=<DivBackward1>)\n",
            "Loss: tensor(2.2557, grad_fn=<DivBackward1>)\n",
            "Loss: tensor(2.2554, grad_fn=<DivBackward1>)\n",
            "Loss: tensor(2.2876, grad_fn=<DivBackward1>)\n",
            "Loss: tensor(2.3907, grad_fn=<DivBackward1>)\n",
            "Loss: tensor(2.2284, grad_fn=<DivBackward1>)\n",
            "Loss: tensor(2.2543, grad_fn=<DivBackward1>)\n",
            "Loss: tensor(2.2884, grad_fn=<DivBackward1>)\n",
            "Loss: tensor(2.1683, grad_fn=<DivBackward1>)\n",
            "Loss: tensor(2.2390, grad_fn=<DivBackward1>)\n",
            "Loss: tensor(2.2863, grad_fn=<DivBackward1>)\n",
            "Loss: tensor(2.2581, grad_fn=<DivBackward1>)\n",
            "Loss: tensor(2.2474, grad_fn=<DivBackward1>)\n",
            "Loss: tensor(2.2749, grad_fn=<DivBackward1>)\n",
            "Loss: tensor(2.3225, grad_fn=<DivBackward1>)\n",
            "Loss: tensor(2.3145, grad_fn=<DivBackward1>)\n",
            "Loss: tensor(2.3392, grad_fn=<DivBackward1>)\n",
            "Loss: tensor(2.2724, grad_fn=<DivBackward1>)\n",
            "Loss: tensor(2.2812, grad_fn=<DivBackward1>)\n",
            "Loss: tensor(2.2449, grad_fn=<DivBackward1>)\n",
            "Loss: tensor(2.2422, grad_fn=<DivBackward1>)\n",
            "Loss: tensor(2.1739, grad_fn=<DivBackward1>)\n",
            "Loss: tensor(2.1603, grad_fn=<DivBackward1>)\n",
            "Loss: tensor(2.1800, grad_fn=<DivBackward1>)\n",
            "Loss: tensor(2.3236, grad_fn=<DivBackward1>)\n",
            "Loss: tensor(2.2311, grad_fn=<DivBackward1>)\n",
            "Loss: tensor(2.2789, grad_fn=<DivBackward1>)\n",
            "Loss: tensor(2.3339, grad_fn=<DivBackward1>)\n",
            "Loss: tensor(2.3277, grad_fn=<DivBackward1>)\n",
            "Loss: tensor(2.2785, grad_fn=<DivBackward1>)\n",
            "Loss: tensor(2.2943, grad_fn=<DivBackward1>)\n",
            "Loss: tensor(2.2000, grad_fn=<DivBackward1>)\n",
            "Loss: tensor(2.1960, grad_fn=<DivBackward1>)\n",
            "Loss: tensor(2.2503, grad_fn=<DivBackward1>)\n",
            "Loss: tensor(2.3241, grad_fn=<DivBackward1>)\n",
            "Loss: tensor(2.2994, grad_fn=<DivBackward1>)\n",
            "Loss: tensor(2.2936, grad_fn=<DivBackward1>)\n",
            "Loss: tensor(2.1837, grad_fn=<DivBackward1>)\n",
            "Loss: tensor(2.3330, grad_fn=<DivBackward1>)\n",
            "Loss: tensor(2.2535, grad_fn=<DivBackward1>)\n",
            "Loss: tensor(2.2957, grad_fn=<DivBackward1>)\n",
            "Loss: tensor(2.3223, grad_fn=<DivBackward1>)\n",
            "Loss: tensor(2.2241, grad_fn=<DivBackward1>)\n",
            "Loss: tensor(2.2516, grad_fn=<DivBackward1>)\n",
            "Loss: tensor(2.2814, grad_fn=<DivBackward1>)\n",
            "Loss: tensor(2.2018, grad_fn=<DivBackward1>)\n",
            "Loss: tensor(2.2606, grad_fn=<DivBackward1>)\n",
            "Loss: tensor(2.3357, grad_fn=<DivBackward1>)\n",
            "Loss: tensor(2.2513, grad_fn=<DivBackward1>)\n",
            "Loss: tensor(2.3057, grad_fn=<DivBackward1>)\n",
            "Loss: tensor(2.2355, grad_fn=<DivBackward1>)\n",
            "Loss: tensor(2.2690, grad_fn=<DivBackward1>)\n",
            "Loss: tensor(2.2706, grad_fn=<DivBackward1>)\n",
            "Loss: tensor(2.1774, grad_fn=<DivBackward1>)\n",
            "Loss: tensor(2.2487, grad_fn=<DivBackward1>)\n",
            "Loss: tensor(2.3467, grad_fn=<DivBackward1>)\n",
            "Loss: tensor(2.2515, grad_fn=<DivBackward1>)\n",
            "Loss: tensor(2.1515, grad_fn=<DivBackward1>)\n",
            "Loss: tensor(2.2384, grad_fn=<DivBackward1>)\n",
            "Loss: tensor(2.2647, grad_fn=<DivBackward1>)\n",
            "Loss: tensor(2.2131, grad_fn=<DivBackward1>)\n",
            "Loss: tensor(2.2419, grad_fn=<DivBackward1>)\n",
            "Loss: tensor(2.3753, grad_fn=<DivBackward1>)\n",
            "Loss: tensor(2.3489, grad_fn=<DivBackward1>)\n",
            "Loss: tensor(2.2749, grad_fn=<DivBackward1>)\n",
            "Loss: tensor(2.2859, grad_fn=<DivBackward1>)\n",
            "Loss: tensor(2.3215, grad_fn=<DivBackward1>)\n",
            "Loss: tensor(2.2992, grad_fn=<DivBackward1>)\n",
            "Loss: tensor(2.2650, grad_fn=<DivBackward1>)\n",
            "Loss: tensor(2.2193, grad_fn=<DivBackward1>)\n",
            "Loss: tensor(2.3178, grad_fn=<DivBackward1>)\n",
            "Loss: tensor(2.2362, grad_fn=<DivBackward1>)\n",
            "Loss: tensor(2.2733, grad_fn=<DivBackward1>)\n",
            "Loss: tensor(2.3224, grad_fn=<DivBackward1>)\n",
            "Loss: tensor(2.2763, grad_fn=<DivBackward1>)\n",
            "Loss: tensor(2.2800, grad_fn=<DivBackward1>)\n",
            "Loss: tensor(2.1717, grad_fn=<DivBackward1>)\n",
            "Loss: tensor(2.2609, grad_fn=<DivBackward1>)\n",
            "Loss: tensor(2.3151, grad_fn=<DivBackward1>)\n",
            "Loss: tensor(2.2116, grad_fn=<DivBackward1>)\n",
            "Loss: tensor(2.2940, grad_fn=<DivBackward1>)\n",
            "Loss: tensor(2.3101, grad_fn=<DivBackward1>)\n",
            "Loss: tensor(2.3978, grad_fn=<DivBackward1>)\n",
            "Loss: tensor(2.2446, grad_fn=<DivBackward1>)\n",
            "Loss: tensor(2.2579, grad_fn=<DivBackward1>)\n",
            "Loss: tensor(2.2386, grad_fn=<DivBackward1>)\n",
            "Loss: tensor(2.2264, grad_fn=<DivBackward1>)\n",
            "Loss: tensor(2.2776, grad_fn=<DivBackward1>)\n",
            "Loss: tensor(2.1329, grad_fn=<DivBackward1>)\n",
            "Loss: tensor(2.2808, grad_fn=<DivBackward1>)\n",
            "Loss: tensor(2.2646, grad_fn=<DivBackward1>)\n",
            "Loss: tensor(2.3398, grad_fn=<DivBackward1>)\n",
            "Loss: tensor(2.2642, grad_fn=<DivBackward1>)\n",
            "Loss: tensor(2.1226, grad_fn=<DivBackward1>)\n",
            "Loss: tensor(2.1978, grad_fn=<DivBackward1>)\n",
            "Loss: tensor(2.2104, grad_fn=<DivBackward1>)\n",
            "Loss: tensor(2.2280, grad_fn=<DivBackward1>)\n",
            "Loss: tensor(2.2337, grad_fn=<DivBackward1>)\n",
            "Loss: tensor(2.4200, grad_fn=<DivBackward1>)\n",
            "Loss: tensor(2.2678, grad_fn=<DivBackward1>)\n",
            "Loss: tensor(2.2143, grad_fn=<DivBackward1>)\n",
            "Loss: tensor(2.1497, grad_fn=<DivBackward1>)\n",
            "Loss: tensor(2.2570, grad_fn=<DivBackward1>)\n",
            "Loss: tensor(2.3022, grad_fn=<DivBackward1>)\n",
            "Loss: tensor(2.2288, grad_fn=<DivBackward1>)\n",
            "Loss: tensor(2.3406, grad_fn=<DivBackward1>)\n",
            "Loss: tensor(2.2356, grad_fn=<DivBackward1>)\n",
            "Loss: tensor(2.1384, grad_fn=<DivBackward1>)\n",
            "Loss: tensor(2.3311, grad_fn=<DivBackward1>)\n",
            "Loss: tensor(2.2002, grad_fn=<DivBackward1>)\n",
            "Loss: tensor(2.2852, grad_fn=<DivBackward1>)\n",
            "Loss: tensor(2.1923, grad_fn=<DivBackward1>)\n",
            "Loss: tensor(2.2003, grad_fn=<DivBackward1>)\n",
            "Loss: tensor(2.2708, grad_fn=<DivBackward1>)\n",
            "Loss: tensor(2.2386, grad_fn=<DivBackward1>)\n",
            "Loss: tensor(2.1719, grad_fn=<DivBackward1>)\n",
            "Loss: tensor(2.1807, grad_fn=<DivBackward1>)\n",
            "Loss: tensor(2.1075, grad_fn=<DivBackward1>)\n",
            "Loss: tensor(2.1389, grad_fn=<DivBackward1>)\n",
            "Loss: tensor(2.2973, grad_fn=<DivBackward1>)\n",
            "Loss: tensor(2.0770, grad_fn=<DivBackward1>)\n",
            "Loss: tensor(2.1961, grad_fn=<DivBackward1>)\n",
            "Loss: tensor(2.2785, grad_fn=<DivBackward1>)\n",
            "Loss: tensor(2.1864, grad_fn=<DivBackward1>)\n",
            "Loss: tensor(2.2997, grad_fn=<DivBackward1>)\n",
            "Epoch: 0\n",
            "Loss: tensor(538.5121, grad_fn=<AddBackward0>)\n",
            "Loss: tensor(2.3156, grad_fn=<DivBackward1>)\n",
            "Loss: tensor(2.1927, grad_fn=<DivBackward1>)\n",
            "Loss: tensor(2.3271, grad_fn=<DivBackward1>)\n",
            "Loss: tensor(2.1797, grad_fn=<DivBackward1>)\n",
            "Loss: tensor(2.3057, grad_fn=<DivBackward1>)\n"
          ]
        },
        {
          "ename": "KeyboardInterrupt",
          "evalue": "ignored",
          "output_type": "error",
          "traceback": [
            "\u001b[0;31m---------------------------------------------------------------------------\u001b[0m",
            "\u001b[0;31mKeyboardInterrupt\u001b[0m                         Traceback (most recent call last)",
            "\u001b[0;32m<ipython-input-17-38f0a438115a>\u001b[0m in \u001b[0;36m<cell line: 2>\u001b[0;34m()\u001b[0m\n\u001b[1;32m      1\u001b[0m \u001b[0mkcnn\u001b[0m \u001b[0;34m=\u001b[0m \u001b[0mKCNN\u001b[0m\u001b[0;34m(\u001b[0m\u001b[0mtrain_dataloader\u001b[0m\u001b[0;34m)\u001b[0m\u001b[0;34m.\u001b[0m\u001b[0mto\u001b[0m\u001b[0;34m(\u001b[0m\u001b[0mdevice\u001b[0m\u001b[0;34m)\u001b[0m\u001b[0;34m\u001b[0m\u001b[0;34m\u001b[0m\u001b[0m\n\u001b[0;32m----> 2\u001b[0;31m \u001b[0mkcnn\u001b[0m\u001b[0;34m.\u001b[0m\u001b[0mfit\u001b[0m\u001b[0;34m(\u001b[0m\u001b[0;34m)\u001b[0m\u001b[0;34m\u001b[0m\u001b[0;34m\u001b[0m\u001b[0m\n\u001b[0m\u001b[1;32m      3\u001b[0m \u001b[0mkcnn\u001b[0m\u001b[0;34m.\u001b[0m\u001b[0msave\u001b[0m\u001b[0;34m(\u001b[0m\u001b[0;34m\"KCNN_1\"\u001b[0m\u001b[0;34m)\u001b[0m\u001b[0;34m\u001b[0m\u001b[0;34m\u001b[0m\u001b[0m\n",
            "\u001b[0;32m<ipython-input-16-209e7815c3fc>\u001b[0m in \u001b[0;36mfit\u001b[0;34m(self)\u001b[0m\n\u001b[1;32m     90\u001b[0m           \u001b[0mX\u001b[0m \u001b[0;34m=\u001b[0m \u001b[0mX\u001b[0m\u001b[0;34m.\u001b[0m\u001b[0mto\u001b[0m\u001b[0;34m(\u001b[0m\u001b[0mdevice\u001b[0m\u001b[0;34m)\u001b[0m\u001b[0;34m\u001b[0m\u001b[0;34m\u001b[0m\u001b[0m\n\u001b[1;32m     91\u001b[0m           \u001b[0mlabels\u001b[0m \u001b[0;34m=\u001b[0m \u001b[0mlabels\u001b[0m\u001b[0;34m.\u001b[0m\u001b[0mto\u001b[0m\u001b[0;34m(\u001b[0m\u001b[0mdevice\u001b[0m\u001b[0;34m)\u001b[0m\u001b[0;34m\u001b[0m\u001b[0;34m\u001b[0m\u001b[0m\n\u001b[0;32m---> 92\u001b[0;31m           \u001b[0mpredictions\u001b[0m \u001b[0;34m=\u001b[0m \u001b[0mself\u001b[0m\u001b[0;34m.\u001b[0m\u001b[0mpredict\u001b[0m\u001b[0;34m(\u001b[0m\u001b[0mX\u001b[0m\u001b[0;34m)\u001b[0m\u001b[0;34m\u001b[0m\u001b[0;34m\u001b[0m\u001b[0m\n\u001b[0m\u001b[1;32m     93\u001b[0m           \u001b[0mloss\u001b[0m \u001b[0;34m=\u001b[0m \u001b[0mself\u001b[0m\u001b[0;34m.\u001b[0m\u001b[0mloss\u001b[0m\u001b[0;34m(\u001b[0m\u001b[0mpredictions\u001b[0m\u001b[0;34m,\u001b[0m \u001b[0mlabels\u001b[0m\u001b[0;34m)\u001b[0m\u001b[0;34m\u001b[0m\u001b[0;34m\u001b[0m\u001b[0m\n\u001b[1;32m     94\u001b[0m           \u001b[0moptimizer\u001b[0m\u001b[0;34m.\u001b[0m\u001b[0mzero_grad\u001b[0m\u001b[0;34m(\u001b[0m\u001b[0;34m)\u001b[0m\u001b[0;34m\u001b[0m\u001b[0;34m\u001b[0m\u001b[0m\n",
            "\u001b[0;32m<ipython-input-16-209e7815c3fc>\u001b[0m in \u001b[0;36mpredict\u001b[0;34m(self, x)\u001b[0m\n\u001b[1;32m     71\u001b[0m \u001b[0;34m\u001b[0m\u001b[0m\n\u001b[1;32m     72\u001b[0m     \u001b[0;32mdef\u001b[0m \u001b[0mpredict\u001b[0m\u001b[0;34m(\u001b[0m\u001b[0mself\u001b[0m\u001b[0;34m,\u001b[0m \u001b[0mx\u001b[0m\u001b[0;34m)\u001b[0m\u001b[0;34m:\u001b[0m\u001b[0;34m\u001b[0m\u001b[0;34m\u001b[0m\u001b[0m\n\u001b[0;32m---> 73\u001b[0;31m       \u001b[0;32mreturn\u001b[0m \u001b[0mself\u001b[0m\u001b[0;34m.\u001b[0m\u001b[0mforward\u001b[0m\u001b[0;34m(\u001b[0m\u001b[0mx\u001b[0m\u001b[0;34m)\u001b[0m\u001b[0;34m\u001b[0m\u001b[0;34m\u001b[0m\u001b[0m\n\u001b[0m\u001b[1;32m     74\u001b[0m \u001b[0;34m\u001b[0m\u001b[0m\n\u001b[1;32m     75\u001b[0m     \u001b[0;31m#takes in all splits of a specific MelSpectrogram, outputs class guess\u001b[0m\u001b[0;34m\u001b[0m\u001b[0;34m\u001b[0m\u001b[0m\n",
            "\u001b[0;32m<ipython-input-16-209e7815c3fc>\u001b[0m in \u001b[0;36mforward\u001b[0;34m(self, mel)\u001b[0m\n\u001b[1;32m     55\u001b[0m         \u001b[0;31m# out = self.input_bn(out) # input normalization\u001b[0m\u001b[0;34m\u001b[0m\u001b[0;34m\u001b[0m\u001b[0m\n\u001b[1;32m     56\u001b[0m         \u001b[0;31m# convolutional layers\u001b[0m\u001b[0;34m\u001b[0m\u001b[0;34m\u001b[0m\u001b[0m\n\u001b[0;32m---> 57\u001b[0;31m         \u001b[0mout\u001b[0m \u001b[0;34m=\u001b[0m \u001b[0mself\u001b[0m\u001b[0;34m.\u001b[0m\u001b[0mlayer1\u001b[0m\u001b[0;34m(\u001b[0m\u001b[0mmel\u001b[0m\u001b[0;34m)\u001b[0m\u001b[0;34m\u001b[0m\u001b[0;34m\u001b[0m\u001b[0m\n\u001b[0m\u001b[1;32m     58\u001b[0m         \u001b[0;31m#print(out.shape)\u001b[0m\u001b[0;34m\u001b[0m\u001b[0;34m\u001b[0m\u001b[0m\n\u001b[1;32m     59\u001b[0m         \u001b[0mout\u001b[0m \u001b[0;34m=\u001b[0m \u001b[0mself\u001b[0m\u001b[0;34m.\u001b[0m\u001b[0mlayer2\u001b[0m\u001b[0;34m(\u001b[0m\u001b[0mout\u001b[0m\u001b[0;34m)\u001b[0m\u001b[0;34m\u001b[0m\u001b[0;34m\u001b[0m\u001b[0m\n",
            "\u001b[0;32m/usr/local/lib/python3.10/dist-packages/torch/nn/modules/module.py\u001b[0m in \u001b[0;36m_wrapped_call_impl\u001b[0;34m(self, *args, **kwargs)\u001b[0m\n\u001b[1;32m   1516\u001b[0m             \u001b[0;32mreturn\u001b[0m \u001b[0mself\u001b[0m\u001b[0;34m.\u001b[0m\u001b[0m_compiled_call_impl\u001b[0m\u001b[0;34m(\u001b[0m\u001b[0;34m*\u001b[0m\u001b[0margs\u001b[0m\u001b[0;34m,\u001b[0m \u001b[0;34m**\u001b[0m\u001b[0mkwargs\u001b[0m\u001b[0;34m)\u001b[0m  \u001b[0;31m# type: ignore[misc]\u001b[0m\u001b[0;34m\u001b[0m\u001b[0;34m\u001b[0m\u001b[0m\n\u001b[1;32m   1517\u001b[0m         \u001b[0;32melse\u001b[0m\u001b[0;34m:\u001b[0m\u001b[0;34m\u001b[0m\u001b[0;34m\u001b[0m\u001b[0m\n\u001b[0;32m-> 1518\u001b[0;31m             \u001b[0;32mreturn\u001b[0m \u001b[0mself\u001b[0m\u001b[0;34m.\u001b[0m\u001b[0m_call_impl\u001b[0m\u001b[0;34m(\u001b[0m\u001b[0;34m*\u001b[0m\u001b[0margs\u001b[0m\u001b[0;34m,\u001b[0m \u001b[0;34m**\u001b[0m\u001b[0mkwargs\u001b[0m\u001b[0;34m)\u001b[0m\u001b[0;34m\u001b[0m\u001b[0;34m\u001b[0m\u001b[0m\n\u001b[0m\u001b[1;32m   1519\u001b[0m \u001b[0;34m\u001b[0m\u001b[0m\n\u001b[1;32m   1520\u001b[0m     \u001b[0;32mdef\u001b[0m \u001b[0m_call_impl\u001b[0m\u001b[0;34m(\u001b[0m\u001b[0mself\u001b[0m\u001b[0;34m,\u001b[0m \u001b[0;34m*\u001b[0m\u001b[0margs\u001b[0m\u001b[0;34m,\u001b[0m \u001b[0;34m**\u001b[0m\u001b[0mkwargs\u001b[0m\u001b[0;34m)\u001b[0m\u001b[0;34m:\u001b[0m\u001b[0;34m\u001b[0m\u001b[0;34m\u001b[0m\u001b[0m\n",
            "\u001b[0;32m/usr/local/lib/python3.10/dist-packages/torch/nn/modules/module.py\u001b[0m in \u001b[0;36m_call_impl\u001b[0;34m(self, *args, **kwargs)\u001b[0m\n\u001b[1;32m   1525\u001b[0m                 \u001b[0;32mor\u001b[0m \u001b[0m_global_backward_pre_hooks\u001b[0m \u001b[0;32mor\u001b[0m \u001b[0m_global_backward_hooks\u001b[0m\u001b[0;34m\u001b[0m\u001b[0;34m\u001b[0m\u001b[0m\n\u001b[1;32m   1526\u001b[0m                 or _global_forward_hooks or _global_forward_pre_hooks):\n\u001b[0;32m-> 1527\u001b[0;31m             \u001b[0;32mreturn\u001b[0m \u001b[0mforward_call\u001b[0m\u001b[0;34m(\u001b[0m\u001b[0;34m*\u001b[0m\u001b[0margs\u001b[0m\u001b[0;34m,\u001b[0m \u001b[0;34m**\u001b[0m\u001b[0mkwargs\u001b[0m\u001b[0;34m)\u001b[0m\u001b[0;34m\u001b[0m\u001b[0;34m\u001b[0m\u001b[0m\n\u001b[0m\u001b[1;32m   1528\u001b[0m \u001b[0;34m\u001b[0m\u001b[0m\n\u001b[1;32m   1529\u001b[0m         \u001b[0;32mtry\u001b[0m\u001b[0;34m:\u001b[0m\u001b[0;34m\u001b[0m\u001b[0;34m\u001b[0m\u001b[0m\n",
            "\u001b[0;32m<ipython-input-16-209e7815c3fc>\u001b[0m in \u001b[0;36mforward\u001b[0;34m(self, wav)\u001b[0m\n\u001b[1;32m     16\u001b[0m         \u001b[0;31m#out = self.bn(out)\u001b[0m\u001b[0;34m\u001b[0m\u001b[0;34m\u001b[0m\u001b[0m\n\u001b[1;32m     17\u001b[0m         \u001b[0mout\u001b[0m \u001b[0;34m=\u001b[0m \u001b[0mself\u001b[0m\u001b[0;34m.\u001b[0m\u001b[0mrelu\u001b[0m\u001b[0;34m(\u001b[0m\u001b[0mout\u001b[0m\u001b[0;34m)\u001b[0m\u001b[0;34m\u001b[0m\u001b[0;34m\u001b[0m\u001b[0m\n\u001b[0;32m---> 18\u001b[0;31m         \u001b[0mout\u001b[0m \u001b[0;34m=\u001b[0m \u001b[0mself\u001b[0m\u001b[0;34m.\u001b[0m\u001b[0mmaxpool\u001b[0m\u001b[0;34m(\u001b[0m\u001b[0mout\u001b[0m\u001b[0;34m)\u001b[0m\u001b[0;34m\u001b[0m\u001b[0;34m\u001b[0m\u001b[0m\n\u001b[0m\u001b[1;32m     19\u001b[0m         \u001b[0mout\u001b[0m \u001b[0;34m=\u001b[0m \u001b[0mself\u001b[0m\u001b[0;34m.\u001b[0m\u001b[0mdropout\u001b[0m\u001b[0;34m(\u001b[0m\u001b[0mout\u001b[0m\u001b[0;34m)\u001b[0m\u001b[0;34m\u001b[0m\u001b[0;34m\u001b[0m\u001b[0m\n\u001b[1;32m     20\u001b[0m         \u001b[0;32mreturn\u001b[0m \u001b[0mout\u001b[0m\u001b[0;34m\u001b[0m\u001b[0;34m\u001b[0m\u001b[0m\n",
            "\u001b[0;32m/usr/local/lib/python3.10/dist-packages/torch/nn/modules/module.py\u001b[0m in \u001b[0;36m_wrapped_call_impl\u001b[0;34m(self, *args, **kwargs)\u001b[0m\n\u001b[1;32m   1516\u001b[0m             \u001b[0;32mreturn\u001b[0m \u001b[0mself\u001b[0m\u001b[0;34m.\u001b[0m\u001b[0m_compiled_call_impl\u001b[0m\u001b[0;34m(\u001b[0m\u001b[0;34m*\u001b[0m\u001b[0margs\u001b[0m\u001b[0;34m,\u001b[0m \u001b[0;34m**\u001b[0m\u001b[0mkwargs\u001b[0m\u001b[0;34m)\u001b[0m  \u001b[0;31m# type: ignore[misc]\u001b[0m\u001b[0;34m\u001b[0m\u001b[0;34m\u001b[0m\u001b[0m\n\u001b[1;32m   1517\u001b[0m         \u001b[0;32melse\u001b[0m\u001b[0;34m:\u001b[0m\u001b[0;34m\u001b[0m\u001b[0;34m\u001b[0m\u001b[0m\n\u001b[0;32m-> 1518\u001b[0;31m             \u001b[0;32mreturn\u001b[0m \u001b[0mself\u001b[0m\u001b[0;34m.\u001b[0m\u001b[0m_call_impl\u001b[0m\u001b[0;34m(\u001b[0m\u001b[0;34m*\u001b[0m\u001b[0margs\u001b[0m\u001b[0;34m,\u001b[0m \u001b[0;34m**\u001b[0m\u001b[0mkwargs\u001b[0m\u001b[0;34m)\u001b[0m\u001b[0;34m\u001b[0m\u001b[0;34m\u001b[0m\u001b[0m\n\u001b[0m\u001b[1;32m   1519\u001b[0m \u001b[0;34m\u001b[0m\u001b[0m\n\u001b[1;32m   1520\u001b[0m     \u001b[0;32mdef\u001b[0m \u001b[0m_call_impl\u001b[0m\u001b[0;34m(\u001b[0m\u001b[0mself\u001b[0m\u001b[0;34m,\u001b[0m \u001b[0;34m*\u001b[0m\u001b[0margs\u001b[0m\u001b[0;34m,\u001b[0m \u001b[0;34m**\u001b[0m\u001b[0mkwargs\u001b[0m\u001b[0;34m)\u001b[0m\u001b[0;34m:\u001b[0m\u001b[0;34m\u001b[0m\u001b[0;34m\u001b[0m\u001b[0m\n",
            "\u001b[0;32m/usr/local/lib/python3.10/dist-packages/torch/nn/modules/module.py\u001b[0m in \u001b[0;36m_call_impl\u001b[0;34m(self, *args, **kwargs)\u001b[0m\n\u001b[1;32m   1525\u001b[0m                 \u001b[0;32mor\u001b[0m \u001b[0m_global_backward_pre_hooks\u001b[0m \u001b[0;32mor\u001b[0m \u001b[0m_global_backward_hooks\u001b[0m\u001b[0;34m\u001b[0m\u001b[0;34m\u001b[0m\u001b[0m\n\u001b[1;32m   1526\u001b[0m                 or _global_forward_hooks or _global_forward_pre_hooks):\n\u001b[0;32m-> 1527\u001b[0;31m             \u001b[0;32mreturn\u001b[0m \u001b[0mforward_call\u001b[0m\u001b[0;34m(\u001b[0m\u001b[0;34m*\u001b[0m\u001b[0margs\u001b[0m\u001b[0;34m,\u001b[0m \u001b[0;34m**\u001b[0m\u001b[0mkwargs\u001b[0m\u001b[0;34m)\u001b[0m\u001b[0;34m\u001b[0m\u001b[0;34m\u001b[0m\u001b[0m\n\u001b[0m\u001b[1;32m   1528\u001b[0m \u001b[0;34m\u001b[0m\u001b[0m\n\u001b[1;32m   1529\u001b[0m         \u001b[0;32mtry\u001b[0m\u001b[0;34m:\u001b[0m\u001b[0;34m\u001b[0m\u001b[0;34m\u001b[0m\u001b[0m\n",
            "\u001b[0;32m/usr/local/lib/python3.10/dist-packages/torch/nn/modules/pooling.py\u001b[0m in \u001b[0;36mforward\u001b[0;34m(self, input)\u001b[0m\n\u001b[1;32m    164\u001b[0m \u001b[0;34m\u001b[0m\u001b[0m\n\u001b[1;32m    165\u001b[0m     \u001b[0;32mdef\u001b[0m \u001b[0mforward\u001b[0m\u001b[0;34m(\u001b[0m\u001b[0mself\u001b[0m\u001b[0;34m,\u001b[0m \u001b[0minput\u001b[0m\u001b[0;34m:\u001b[0m \u001b[0mTensor\u001b[0m\u001b[0;34m)\u001b[0m\u001b[0;34m:\u001b[0m\u001b[0;34m\u001b[0m\u001b[0;34m\u001b[0m\u001b[0m\n\u001b[0;32m--> 166\u001b[0;31m         return F.max_pool2d(input, self.kernel_size, self.stride,\n\u001b[0m\u001b[1;32m    167\u001b[0m                             \u001b[0mself\u001b[0m\u001b[0;34m.\u001b[0m\u001b[0mpadding\u001b[0m\u001b[0;34m,\u001b[0m \u001b[0mself\u001b[0m\u001b[0;34m.\u001b[0m\u001b[0mdilation\u001b[0m\u001b[0;34m,\u001b[0m \u001b[0mceil_mode\u001b[0m\u001b[0;34m=\u001b[0m\u001b[0mself\u001b[0m\u001b[0;34m.\u001b[0m\u001b[0mceil_mode\u001b[0m\u001b[0;34m,\u001b[0m\u001b[0;34m\u001b[0m\u001b[0;34m\u001b[0m\u001b[0m\n\u001b[1;32m    168\u001b[0m                             return_indices=self.return_indices)\n",
            "\u001b[0;32m/usr/local/lib/python3.10/dist-packages/torch/_jit_internal.py\u001b[0m in \u001b[0;36mfn\u001b[0;34m(*args, **kwargs)\u001b[0m\n\u001b[1;32m    486\u001b[0m             \u001b[0;32mreturn\u001b[0m \u001b[0mif_true\u001b[0m\u001b[0;34m(\u001b[0m\u001b[0;34m*\u001b[0m\u001b[0margs\u001b[0m\u001b[0;34m,\u001b[0m \u001b[0;34m**\u001b[0m\u001b[0mkwargs\u001b[0m\u001b[0;34m)\u001b[0m\u001b[0;34m\u001b[0m\u001b[0;34m\u001b[0m\u001b[0m\n\u001b[1;32m    487\u001b[0m         \u001b[0;32melse\u001b[0m\u001b[0;34m:\u001b[0m\u001b[0;34m\u001b[0m\u001b[0;34m\u001b[0m\u001b[0m\n\u001b[0;32m--> 488\u001b[0;31m             \u001b[0;32mreturn\u001b[0m \u001b[0mif_false\u001b[0m\u001b[0;34m(\u001b[0m\u001b[0;34m*\u001b[0m\u001b[0margs\u001b[0m\u001b[0;34m,\u001b[0m \u001b[0;34m**\u001b[0m\u001b[0mkwargs\u001b[0m\u001b[0;34m)\u001b[0m\u001b[0;34m\u001b[0m\u001b[0;34m\u001b[0m\u001b[0m\n\u001b[0m\u001b[1;32m    489\u001b[0m \u001b[0;34m\u001b[0m\u001b[0m\n\u001b[1;32m    490\u001b[0m     \u001b[0;32mif\u001b[0m \u001b[0mif_true\u001b[0m\u001b[0;34m.\u001b[0m\u001b[0m__doc__\u001b[0m \u001b[0;32mis\u001b[0m \u001b[0;32mNone\u001b[0m \u001b[0;32mand\u001b[0m \u001b[0mif_false\u001b[0m\u001b[0;34m.\u001b[0m\u001b[0m__doc__\u001b[0m \u001b[0;32mis\u001b[0m \u001b[0;32mnot\u001b[0m \u001b[0;32mNone\u001b[0m\u001b[0;34m:\u001b[0m\u001b[0;34m\u001b[0m\u001b[0;34m\u001b[0m\u001b[0m\n",
            "\u001b[0;32m/usr/local/lib/python3.10/dist-packages/torch/nn/functional.py\u001b[0m in \u001b[0;36m_max_pool2d\u001b[0;34m(input, kernel_size, stride, padding, dilation, ceil_mode, return_indices)\u001b[0m\n\u001b[1;32m    789\u001b[0m     \u001b[0;32mif\u001b[0m \u001b[0mstride\u001b[0m \u001b[0;32mis\u001b[0m \u001b[0;32mNone\u001b[0m\u001b[0;34m:\u001b[0m\u001b[0;34m\u001b[0m\u001b[0;34m\u001b[0m\u001b[0m\n\u001b[1;32m    790\u001b[0m         \u001b[0mstride\u001b[0m \u001b[0;34m=\u001b[0m \u001b[0mtorch\u001b[0m\u001b[0;34m.\u001b[0m\u001b[0mjit\u001b[0m\u001b[0;34m.\u001b[0m\u001b[0mannotate\u001b[0m\u001b[0;34m(\u001b[0m\u001b[0mList\u001b[0m\u001b[0;34m[\u001b[0m\u001b[0mint\u001b[0m\u001b[0;34m]\u001b[0m\u001b[0;34m,\u001b[0m \u001b[0;34m[\u001b[0m\u001b[0;34m]\u001b[0m\u001b[0;34m)\u001b[0m\u001b[0;34m\u001b[0m\u001b[0;34m\u001b[0m\u001b[0m\n\u001b[0;32m--> 791\u001b[0;31m     \u001b[0;32mreturn\u001b[0m \u001b[0mtorch\u001b[0m\u001b[0;34m.\u001b[0m\u001b[0mmax_pool2d\u001b[0m\u001b[0;34m(\u001b[0m\u001b[0minput\u001b[0m\u001b[0;34m,\u001b[0m \u001b[0mkernel_size\u001b[0m\u001b[0;34m,\u001b[0m \u001b[0mstride\u001b[0m\u001b[0;34m,\u001b[0m \u001b[0mpadding\u001b[0m\u001b[0;34m,\u001b[0m \u001b[0mdilation\u001b[0m\u001b[0;34m,\u001b[0m \u001b[0mceil_mode\u001b[0m\u001b[0;34m)\u001b[0m\u001b[0;34m\u001b[0m\u001b[0;34m\u001b[0m\u001b[0m\n\u001b[0m\u001b[1;32m    792\u001b[0m \u001b[0;34m\u001b[0m\u001b[0m\n\u001b[1;32m    793\u001b[0m \u001b[0;34m\u001b[0m\u001b[0m\n",
            "\u001b[0;31mKeyboardInterrupt\u001b[0m: "
          ]
        }
      ],
      "source": [
        "kcnn = KCNN(train_dataloader).to(device)\n",
        "kcnn.fit()\n",
        "kcnn.save(\"KCNN_1\")"
      ]
    },
    {
      "cell_type": "markdown",
      "metadata": {
        "id": "QQ-tNj21v9VA"
      },
      "source": [
        "### Test Paper Model"
      ]
    },
    {
      "cell_type": "code",
      "execution_count": null,
      "metadata": {
        "colab": {
          "base_uri": "https://localhost:8080/"
        },
        "id": "pc4Hb8sCv79V",
        "outputId": "53bcd403-afe4-4486-9a69-ad43942099e9"
      },
      "outputs": [
        {
          "output_type": "stream",
          "name": "stdout",
          "text": [
            "/content/drive/MyDrive/CS 682/682 Final Project/models/R2Epoch9.pt\n"
          ]
        }
      ],
      "source": [
        "import seaborn as sns\n",
        "from sklearn.metrics import accuracy_score, confusion_matrix\n",
        "\n",
        "SAVE_FILE_NAME = \"R2Epoch9\" #Ex: \"Epoch8\"\n",
        "test_dataloader = DataLoader(d_test, batch_size=num_splits, shuffle=False)\n",
        "#LOAD FROM FILE\n",
        "kcnn = KCNN(train_dataloader)\n",
        "kcnn.load(SAVE_FILE_NAME)\n",
        "\n",
        "y_true = []\n",
        "y_pred = []\n",
        "count = len(test_dataloader)\n",
        "with torch.no_grad():\n",
        "  for x, label in test_dataloader:\n",
        "    y_true.append(torch.argmax(label).item())\n",
        "    y_pred.append(kcnn.predict_full_class(x).item())"
      ]
    },
    {
      "cell_type": "code",
      "execution_count": null,
      "metadata": {
        "colab": {
          "base_uri": "https://localhost:8080/",
          "height": 515
        },
        "id": "ZyTaFf6rMG2q",
        "outputId": "d4cf28ee-e1e6-4ad8-ee98-54b488a707a4"
      },
      "outputs": [
        {
          "output_type": "stream",
          "name": "stdout",
          "text": [
            "0.5433333333333333\n"
          ]
        },
        {
          "output_type": "execute_result",
          "data": {
            "text/plain": [
              "<Axes: >"
            ]
          },
          "metadata": {},
          "execution_count": 17
        },
        {
          "output_type": "display_data",
          "data": {
            "text/plain": [
              "<Figure size 640x480 with 2 Axes>"
            ],
            "image/png": "[encoded data removed]"
          },
          "metadata": {}
        }
      ],
      "source": [
        "from sklearn.metrics import accuracy_score, confusion_matrix\n",
        "print(accuracy_score(y_true, y_pred))\n",
        "cm = confusion_matrix(y_true, y_pred)\n",
        "sns.heatmap(cm, annot=True, xticklabels=GTZAN_GENRES, yticklabels=GTZAN_GENRES, cmap='YlGnBu')\n"
      ]
    }
  ],
  "metadata": {
    "colab": {
      "provenance": []
    },
    "kernelspec": {
      "display_name": "Python 3",
      "name": "python3"
    },
    "language_info": {
      "name": "python"
    }
  },
  "nbformat": 4,
  "nbformat_minor": 0
}